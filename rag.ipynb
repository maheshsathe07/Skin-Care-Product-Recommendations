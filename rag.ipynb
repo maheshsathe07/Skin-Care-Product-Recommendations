{
 "cells": [
  {
   "cell_type": "code",
   "execution_count": 3,
   "metadata": {},
   "outputs": [
    {
     "data": {
      "text/plain": [
       "True"
      ]
     },
     "execution_count": 3,
     "metadata": {},
     "output_type": "execute_result"
    }
   ],
   "source": [
    "import os\n",
    "from dotenv import load_dotenv\n",
    "load_dotenv()"
   ]
  },
  {
   "cell_type": "code",
   "execution_count": 4,
   "metadata": {},
   "outputs": [
    {
     "name": "stderr",
     "output_type": "stream",
     "text": [
      "d:\\Internship\\Herbs Magic\\Recommend Products\\venv\\lib\\site-packages\\pinecone\\data\\index.py:1: TqdmWarning: IProgress not found. Please update jupyter and ipywidgets. See https://ipywidgets.readthedocs.io/en/stable/user_install.html\n",
      "  from tqdm.autonotebook import tqdm\n"
     ]
    }
   ],
   "source": [
    "# Langchain\n",
    "from langchain_community.document_loaders import DirectoryLoader\n",
    "from langchain_community.document_loaders.csv_loader import CSVLoader\n",
    "from langchain.chains.query_constructor.base import AttributeInfo\n",
    "\n",
    "from langchain_pinecone import PineconeVectorStore\n",
    "from langchain_core.prompts import ChatPromptTemplate\n",
    "from langchain_core.runnables import RunnablePassthrough"
   ]
  },
  {
   "cell_type": "code",
   "execution_count": 5,
   "metadata": {},
   "outputs": [],
   "source": [
    "from langchain.text_splitter import RecursiveCharacterTextSplitter\n",
    "from pinecone import Pinecone"
   ]
  },
  {
   "cell_type": "code",
   "execution_count": 54,
   "metadata": {},
   "outputs": [
    {
     "name": "stderr",
     "output_type": "stream",
     "text": [
      "100%|██████████| 1/1 [00:00<00:00, 30.43it/s]\n"
     ]
    }
   ],
   "source": [
    "loader = DirectoryLoader(\n",
    "    path=\"./data\",\n",
    "    loader_cls=CSVLoader,\n",
    "    show_progress=True)\n",
    "\n",
    "docs = loader.load()\n"
   ]
  },
  {
   "cell_type": "code",
   "execution_count": 55,
   "metadata": {},
   "outputs": [],
   "source": [
    "\n",
    "metadata_field_info = [\n",
    "    AttributeInfo(name=\"label\", description=\"Category of the product\", type=\"string\"),\n",
    "    AttributeInfo(name=\"url\", description=\"The official website\", type=\"string\"),\n",
    "    AttributeInfo(name=\"brand\", description=\"Brand of the product\", type=\"string\"),\n",
    "    AttributeInfo(name=\"name\", description=\"The name of the product\", type=\"string\"),\n",
    "    AttributeInfo(name=\"price\", description=\"The price of the product\", type=\"string\"),\n",
    "    AttributeInfo(name=\"skin type\", description=\"type of the skin either applicable to all types or normal or oily or dry\", type=\"string\"),\n",
    "    AttributeInfo(name=\"concern\", description=\"For what reason it should used\", type=\"string\")\n",
    "    \n",
    "]"
   ]
  },
  {
   "cell_type": "code",
   "execution_count": 58,
   "metadata": {},
   "outputs": [],
   "source": [
    "fields_to_convert_list = [\"concern\"]\n",
    "fields_to_convert_int = [\"price\"]"
   ]
  },
  {
   "cell_type": "code",
   "execution_count": 59,
   "metadata": {},
   "outputs": [],
   "source": [
    "def convert_to_list(doc, field):\n",
    "    if field in doc.metadata and doc.metadata[field]:\n",
    "        doc.metadata[field] = doc.metadata[field].split(\", \")\n",
    "\n",
    "def convert_to_int(doc, field):\n",
    "    if field in doc.metadata and doc.metadata[field]:\n",
    "        try:\n",
    "            doc.metadata[field] = int(doc.metadata[field])\n",
    "        except ValueError:\n",
    "            pass "
   ]
  },
  {
   "cell_type": "code",
   "execution_count": 60,
   "metadata": {},
   "outputs": [],
   "source": [
    "for doc in docs:\n",
    "\n",
    "    page_content_dict = dict(line.split(\": \", 1)\n",
    "                            for line in doc.page_content.split(\"\\n\") if \": \" in line)\n",
    "    \n",
    "\n",
    "    doc.page_content = 'Overview: ' + page_content_dict.get('Plot', '') + '. Keywords: ' + page_content_dict.get('Genre', '')\n",
    "    \n",
    "\n",
    "    doc.metadata = {field.name: page_content_dict.get(field.name) for field in metadata_field_info}\n",
    "    \n",
    "    for field in fields_to_convert_list:\n",
    "        convert_to_list(doc, field)\n",
    "    \n",
    "    for field in fields_to_convert_int:\n",
    "        convert_to_int(doc, field)"
   ]
  },
  {
   "cell_type": "code",
   "execution_count": 61,
   "metadata": {},
   "outputs": [
    {
     "data": {
      "text/plain": [
       "967"
      ]
     },
     "execution_count": 61,
     "metadata": {},
     "output_type": "execute_result"
    }
   ],
   "source": [
    "len(docs)"
   ]
  },
  {
   "cell_type": "code",
   "execution_count": 62,
   "metadata": {},
   "outputs": [
    {
     "data": {
      "text/plain": [
       "Document(page_content='Overview: . Keywords: ', metadata={'label': 'face-moisturisers', 'url': 'https://www.myntra.com/face-moisturisers/loreal/loreal-paris-skin-perfect-age-20-anti-imperfections--whitening-sustainable-cream-50g/625425/buy', 'brand': 'LOreal', 'name': 'Paris Skin Perfect Age 20+ Anti-Imperfections + Whitening Sustainable Cream 50g', 'price': 'â‚¹ 189', 'skin type': 'All', 'concern': ['pigmentation,blackheads and whiteheads,general care']})"
      ]
     },
     "execution_count": 62,
     "metadata": {},
     "output_type": "execute_result"
    }
   ],
   "source": [
    "docs[111]"
   ]
  },
  {
   "cell_type": "code",
   "execution_count": 63,
   "metadata": {},
   "outputs": [
    {
     "data": {
      "text/plain": [
       "'Overview: . Keywords: '"
      ]
     },
     "execution_count": 63,
     "metadata": {},
     "output_type": "execute_result"
    }
   ],
   "source": [
    "docs[111].page_content"
   ]
  },
  {
   "cell_type": "code",
   "execution_count": 64,
   "metadata": {},
   "outputs": [
    {
     "data": {
      "text/plain": [
       "{'label': 'face-moisturisers',\n",
       " 'url': 'https://www.myntra.com/face-moisturisers/loreal/loreal-paris-skin-perfect-age-20-anti-imperfections--whitening-sustainable-cream-50g/625425/buy',\n",
       " 'brand': 'LOreal',\n",
       " 'name': 'Paris Skin Perfect Age 20+ Anti-Imperfections + Whitening Sustainable Cream 50g',\n",
       " 'price': 'â‚¹ 189',\n",
       " 'skin type': 'All',\n",
       " 'concern': ['pigmentation,blackheads and whiteheads,general care']}"
      ]
     },
     "execution_count": 64,
     "metadata": {},
     "output_type": "execute_result"
    }
   ],
   "source": [
    "docs[111].metadata"
   ]
  },
  {
   "cell_type": "code",
   "execution_count": 65,
   "metadata": {},
   "outputs": [],
   "source": [
    "text_splitter = RecursiveCharacterTextSplitter(chunk_size=1000, chunk_overlap=100)\n",
    "documents = text_splitter.split_documents(docs)"
   ]
  },
  {
   "cell_type": "code",
   "execution_count": 66,
   "metadata": {},
   "outputs": [
    {
     "data": {
      "text/plain": [
       "967"
      ]
     },
     "execution_count": 66,
     "metadata": {},
     "output_type": "execute_result"
    }
   ],
   "source": [
    "len(documents)"
   ]
  },
  {
   "cell_type": "code",
   "execution_count": 67,
   "metadata": {},
   "outputs": [],
   "source": [
    "pinecone_api_key = os.getenv(\"PINECONE_API_KEY\")\n",
    "pc = Pinecone(api_key=pinecone_api_key)"
   ]
  },
  {
   "cell_type": "code",
   "execution_count": 68,
   "metadata": {},
   "outputs": [],
   "source": [
    "import google.generativeai as genai\n",
    "from dotenv import load_dotenv\n",
    "import os\n",
    "from langchain_google_genai import ChatGoogleGenerativeAI\n",
    "\n",
    "load_dotenv()\n",
    "genai.configure(api_key=os.getenv(\"GOOGLE_API_KEY\"))\n",
    "llm = ChatGoogleGenerativeAI(model=\"gemini-pro\")"
   ]
  },
  {
   "cell_type": "code",
   "execution_count": 69,
   "metadata": {},
   "outputs": [],
   "source": [
    "from langchain_google_genai import GoogleGenerativeAIEmbeddings\n",
    "\n",
    "embeddings=GoogleGenerativeAIEmbeddings(model = \"models/embedding-001\")"
   ]
  },
  {
   "cell_type": "code",
   "execution_count": 70,
   "metadata": {},
   "outputs": [],
   "source": [
    "temp = documents[0:31]"
   ]
  },
  {
   "cell_type": "code",
   "execution_count": 71,
   "metadata": {},
   "outputs": [
    {
     "data": {
      "text/plain": [
       "[Document(page_content='Overview: . Keywords:', metadata={'label': 'face-moisturisers', 'url': 'https://www.myntra.com/face-moisturisers/lakme/lakme-absolute-perfect-radiance-skin-lightening-day-creme-15g/4384871/buy', 'brand': 'Lakme', 'name': 'Absolute Perfect Radiance Skin Lightening Day Creme 15g', 'price': 'â‚¹ 79', 'skin type': 'All', 'concern': ['general care,,']}),\n",
       " Document(page_content='Overview: . Keywords:', metadata={'label': 'face-moisturisers', 'url': 'https://www.myntra.com/face-moisturisers/biotique/biotique-bio-morning-nectar-flawless-sustainable-skin-moisturizer-190ml/1661465/buy', 'brand': 'Biotique', 'name': 'Bio Morning Nectar Flawless Sustainable Skin Moisturizer 190ml', 'price': 'â‚¹ 165', 'skin type': 'All', 'concern': ['uneven skin tone,hydration,dark spots']}),\n",
       " Document(page_content='Overview: . Keywords:', metadata={'label': 'face-moisturisers', 'url': 'https://www.myntra.com/face-moisturisers/nivea/nivea-unisex-aloe-hydration-skin-cream-100-ml/8529167/buy', 'brand': 'Nivea', 'name': 'Unisex Aloe Hydration Skin Cream 100 ml', 'price': 'â‚¹ 92', 'skin type': 'All', 'concern': ['dull skin,dryness,general care']}),\n",
       " Document(page_content='Overview: . Keywords:', metadata={'label': 'face-moisturisers', 'url': 'https://www.myntra.com/face-moisturisers/vi-john/vi-john-women-set-of-5-saffron-fairness-cream-advanced/15390390/buy', 'brand': 'VI-JOHN', 'name': 'Women Set of 5 Saffron Fairness Cream Advanced', 'price': 'â‚¹ 187', 'skin type': 'All', 'concern': ['softening and smoothening,softening and smoothening,sun protection']}),\n",
       " Document(page_content='Overview: . Keywords:', metadata={'label': 'face-moisturisers', 'url': 'https://www.myntra.com/face-moisturisers/lakme/lakme--peach-milk-soft-creme-150g/7552207/buy', 'brand': 'Lakme', 'name': 'Peach Milk Soft Creme 150g', 'price': 'â‚¹ 192', 'skin type': 'All', 'concern': ['general care,,']}),\n",
       " Document(page_content='Overview: . Keywords:', metadata={'label': 'face-moisturisers', 'url': 'https://www.myntra.com/face-moisturisers/biotique/biotique-bio-coconut-whitening--brightening-sustainable-cream-50g/1661415/buy', 'brand': 'Biotique', 'name': 'Bio Coconut Whitening & Brightening Sustainable Cream 50g', 'price': 'â‚¹ 117', 'skin type': 'All', 'concern': ['uneven skin tone,dull skin,hydration']}),\n",
       " Document(page_content='Overview: . Keywords:', metadata={'label': 'face-moisturisers', 'url': 'https://www.myntra.com/face-moisturisers/lakme/lakme-absolute-women-perfect-radiance-skin-lightening-day-creme-50-g/1254169/buy', 'brand': 'Lakme', 'name': 'Absolute Women Perfect Radiance Skin Lightening Day Creme 50 g', 'price': 'â‚¹ 239', 'skin type': 'Normal', 'concern': ['general care,,']}),\n",
       " Document(page_content='Overview: . Keywords:', metadata={'label': 'face-moisturisers', 'url': 'https://www.myntra.com/face-moisturisers/laneige/laneige-radian-c-cream-30-ml/15078068/buy', 'brand': 'LANEIGE', 'name': 'Radian-C Cream 30 ml', 'price': 'â‚¹ 2014', 'skin type': 'All', 'concern': ['dark spots,uneven skin tone,']}),\n",
       " Document(page_content='Overview: . Keywords:', metadata={'label': 'face-moisturisers', 'url': 'https://www.myntra.com/face-moisturisers/biotique/biotique-bio-morning-nectar-flawless-sustainable-skin-lotion-120ml/1661472/buy', 'brand': 'Biotique', 'name': 'Bio Morning Nectar Flawless Sustainable Skin Lotion 120ml', 'price': 'â‚¹ 117', 'skin type': 'All', 'concern': ['uneven skin tone,hydration,dark spots']}),\n",
       " Document(page_content='Overview: . Keywords:', metadata={'label': 'face-moisturisers', 'url': 'https://www.myntra.com/face-moisturisers/nivea/nivea-soft-light-moisturizer-with-vitamin-e-100ml/2273976/buy', 'brand': 'Nivea', 'name': 'Soft Light Moisturizer with Vitamin E 100ml', 'price': 'â‚¹ 166', 'skin type': 'All', 'concern': ['general care,dryness,softening and smoothening']}),\n",
       " Document(page_content='Overview: . Keywords:', metadata={'label': 'face-moisturisers', 'url': 'https://www.myntra.com/face-moisturisers/biotique/biotique-vitamin-c-correcting-and-brightening-treatment-face-moisturizer-50-g/12679484/buy', 'brand': 'Biotique', 'name': 'Vitamin C Correcting and Brightening Treatment Face Moisturizer 50 g', 'price': 'â‚¹ 147', 'skin type': 'Normal', 'concern': ['general care,irregular textures,pigmentation']}),\n",
       " Document(page_content='Overview: . Keywords:', metadata={'label': 'face-moisturisers', 'url': 'https://www.myntra.com/face-moisturisers/neutrogena/neutrogena-hydro-boost-emulsion-face-moisturisers-50-g/10337731/buy', 'brand': 'Neutrogena', 'name': 'Hydro Boost Emulsion Face Moisturisers 50 g', 'price': 'â‚¹ 1100', 'skin type': 'Dry', 'concern': ['general care,,']}),\n",
       " Document(page_content='Overview: . Keywords:', metadata={'label': 'face-moisturisers', 'url': 'https://www.myntra.com/face-moisturisers/bewakoof-cosmos/bewakoof-cosmos-touch-of-universe-face-moisturizer-with-vitamin-e--magnesium--100gms/15360926/buy', 'brand': 'BEWAKOOF COSMOS', 'name': 'Touch of Universe Face Moisturizer with Vitamin E & Magnesium -100gms', 'price': 'â‚¹ 174', 'skin type': 'Normal', 'concern': ['dryness,skin inflammation,sun protection']}),\n",
       " Document(page_content='Overview: . Keywords:', metadata={'label': 'face-moisturisers', 'url': 'https://www.myntra.com/face-moisturisers/olay/olay-total-effects-7-in-one-day-cream-normal-spf-15---50g/13509836/buy', 'brand': 'Olay', 'name': 'Total Effects 7 In One Day Cream Normal SPF 15 - 50g', 'price': 'â‚¹ 629', 'skin type': 'All', 'concern': ['fine lines and wrinkles,hydration,softening and smoothening']}),\n",
       " Document(page_content='Overview: . Keywords:', metadata={'label': 'face-moisturisers', 'url': 'https://www.myntra.com/face-moisturisers/lotus-herbals/lotus-herbals-women-white-glow-skin-whitening--brightening-nourishing-night-creme-40-g/11752736/buy', 'brand': 'Lotus Herbals', 'name': 'Women White Glow Skin Whitening & Brightening Nourishing Night Creme 40 g', 'price': 'â‚¹ 191', 'skin type': 'All', 'concern': ['pigmentation,,']}),\n",
       " Document(page_content='Overview: . Keywords:', metadata={'label': 'face-moisturisers', 'url': 'https://www.myntra.com/face-moisturisers/biotique/biotique-bio-wheat-germ-youthful-nourishing-night-sustainable-cream-50g/1661469/buy', 'brand': 'Biotique', 'name': 'Bio Wheat Germ Youthful Nourishing Night Sustainable Cream 50g', 'price': 'â‚¹ 135', 'skin type': 'All', 'concern': ['dryness,deep nourishment,dryness']}),\n",
       " Document(page_content='Overview: . Keywords:', metadata={'label': 'face-moisturisers', 'url': 'https://www.myntra.com/face-moisturisers/mamaearth/mamaearth-bye-bye-blemishes-face-cream-30ml/11081528/buy', 'brand': 'Mamaearth', 'name': 'Bye Bye Blemishes Face Cream 30ml', 'price': 'â‚¹ 404', 'skin type': 'All', 'concern': ['pigmentation,,']}),\n",
       " Document(page_content='Overview: . Keywords:', metadata={'label': 'face-moisturisers', 'url': 'https://www.myntra.com/face-moisturisers/lotus-herbals/lotus-herbals-sustainable-white-glow-day-night-pack-with-facial-wash-60g--60g--100g/1353659/buy', 'brand': 'Lotus Herbals', 'name': 'Sustainable White Glow Day Night Pack with Facial Wash 60g + 60g + 100g', 'price': 'â‚¹ 529', 'skin type': 'Normal', 'concern': ['general care,,']}),\n",
       " Document(page_content='Overview: . Keywords:', metadata={'label': 'face-moisturisers', 'url': 'https://www.myntra.com/face-moisturisers/neutriderm/neutriderm-vitamin-e-moisturising-lotion-125ml/13176342/buy', 'brand': 'Neutriderm', 'name': 'Vitamin E Moisturising Lotion 125ml', 'price': 'â‚¹ 850', 'skin type': 'All', 'concern': ['general care,,']}),\n",
       " Document(page_content='Overview: . Keywords:', metadata={'label': 'face-moisturisers', 'url': 'https://www.myntra.com/face-moisturisers/good-vibes/good-vibes-revitalising-face-cream---green-tea-50-g/15283688/buy', 'brand': 'Good Vibes', 'name': 'Revitalising Face Cream - Green Tea (50 g)', 'price': 'â‚¹ 212', 'skin type': 'All', 'concern': ['softening and smoothening,hydration,deep nourishment']}),\n",
       " Document(page_content='Overview: . Keywords:', metadata={'label': 'face-moisturisers', 'url': 'https://www.myntra.com/face-moisturisers/olay/olay-regenerist-advanced-anti-ageing-micro-sculpting-cream-50-g/10444752/buy', 'brand': 'Olay', 'name': 'Regenerist Advanced Anti-Ageing Micro-Sculpting Cream 50 g', 'price': 'â‚¹ 1189', 'skin type': 'Dry', 'concern': ['fine lines and wrinkles,,']}),\n",
       " Document(page_content='Overview: . Keywords:', metadata={'label': 'face-moisturisers', 'url': 'https://www.myntra.com/face-moisturisers/nivea/nivea-men-creme-for-face---body---hands-75-ml/2273979/buy', 'brand': 'Nivea', 'name': 'Men Creme for Face - Body - Hands 75 ml', 'price': 'â‚¹ 112', 'skin type': 'All', 'concern': ['general care,dull skin,dryness']}),\n",
       " Document(page_content='Overview: . Keywords:', metadata={'label': 'face-moisturisers', 'url': 'https://www.myntra.com/face-moisturisers/ponds/ponds-women-non-oily-fresh-feel-light-moisturiser/7197046/buy', 'brand': 'Ponds', 'name': 'Women Non-Oily Fresh Feel Light Moisturiser', 'price': 'â‚¹ 112', 'skin type': 'All', 'concern': ['general care,,']}),\n",
       " Document(page_content='Overview: . Keywords:', metadata={'label': 'face-moisturisers', 'url': 'https://www.myntra.com/face-moisturisers/neutrogena/neutrogena-rapid-wrinkle-repair-night-moisturizer---29-ml/2427948/buy', 'brand': 'Neutrogena', 'name': 'Rapid Wrinkle Repair Night Moisturizer - 29 ml', 'price': 'â‚¹ 1250', 'skin type': 'All', 'concern': ['fine lines and wrinkles,pigmentation,']}),\n",
       " Document(page_content='Overview: . Keywords:', metadata={'label': 'face-moisturisers', 'url': 'https://www.myntra.com/face-moisturisers/loreal/loreal-paris-white-perfect-whitening--even-tone-night-cream-50ml/236322/buy', 'brand': 'LOreal', 'name': 'Paris White Perfect Whitening + Even Tone Night Cream 50ml', 'price': 'â‚¹ 412', 'skin type': 'All', 'concern': ['pigmentation,blackheads and whiteheads,']}),\n",
       " Document(page_content='Overview: . Keywords:', metadata={'label': 'face-moisturisers', 'url': 'https://www.myntra.com/face-moisturisers/skinkraft/skinkraft-women-oil-balance-moisturizer-for-slightly-oily-skin-45-ml/15345054/buy', 'brand': 'SKINKRAFT', 'name': 'Women Oil Balance Moisturizer for Slightly Oily Skin 45 ml', 'price': 'â‚¹ 499', 'skin type': 'Oily', 'concern': ['excess oil,,']}),\n",
       " Document(page_content='Overview: . Keywords:', metadata={'label': 'face-moisturisers', 'url': 'https://www.myntra.com/face-moisturisers/biotique/biotique-bio-white-advanced-fairness-treatment-sustainable-face-cream-50-g/2432712/buy', 'brand': 'Biotique', 'name': 'Bio White Advanced Fairness Treatment Sustainable Face Cream 50 g', 'price': 'â‚¹ 67', 'skin type': 'All', 'concern': ['uneven skin tone,hydration,']}),\n",
       " Document(page_content='Overview: . Keywords:', metadata={'label': 'face-moisturisers', 'url': 'https://www.myntra.com/face-moisturisers/loreal/loreal-paris-white-perfect-clinical-day-anti-spot-whitening-spf-19-pa-cream-50ml/135676/buy', 'brand': 'LOreal', 'name': 'Paris White Perfect Clinical Day Anti Spot Whitening SPF 19 PA+++ Cream 50ml', 'price': 'â‚¹ 702', 'skin type': 'All', 'concern': ['pigmentation,dull skin,dark spots']}),\n",
       " Document(page_content='Overview: . Keywords:', metadata={'label': 'face-moisturisers', 'url': 'https://www.myntra.com/face-moisturisers/lotus-herbals/lotus-herbals-sustainable-whiteglow-skin-tightening--brightening-gel-creme-with-spf-25-40g/1920200/buy', 'brand': 'Lotus Herbals', 'name': 'Sustainable WhiteGlow Skin Tightening Brightening Gel Creme with SPF 25 40g', 'price': 'â‚¹ 182', 'skin type': 'All', 'concern': ['softening and smoothening,,']}),\n",
       " Document(page_content='Overview: . Keywords:', metadata={'label': 'face-moisturisers', 'url': 'https://www.myntra.com/face-moisturisers/skinkraft/skinkraft-customized-moisturizer-for-oily-skin---45-ml/15345052/buy', 'brand': 'SKINKRAFT', 'name': 'Customized Moisturizer For Oily Skin - 45 ml', 'price': 'â‚¹ 499', 'skin type': 'Oily', 'concern': ['excess oil,dryness,hydration']}),\n",
       " Document(page_content='Overview: . Keywords:', metadata={'label': 'face-moisturisers', 'url': 'https://www.myntra.com/face-moisturisers/loreal/loreal-paris-revitalift-moisturizing-anti-ageing-night-cream-50ml/62002/buy', 'brand': 'LOreal', 'name': 'Paris Revitalift Moisturizing Anti-ageing Night Cream 50ml', 'price': 'â‚¹ 507', 'skin type': 'Normal', 'concern': ['skin sagging,hydration,']})]"
      ]
     },
     "execution_count": 71,
     "metadata": {},
     "output_type": "execute_result"
    }
   ],
   "source": [
    "temp"
   ]
  },
  {
   "cell_type": "code",
   "execution_count": 72,
   "metadata": {},
   "outputs": [],
   "source": [
    "index_name = \"recommend-products\"\n",
    "index = PineconeVectorStore.from_documents(temp,embeddings,index_name=index_name)\n"
   ]
  },
  {
   "cell_type": "code",
   "execution_count": null,
   "metadata": {},
   "outputs": [],
   "source": []
  }
 ],
 "metadata": {
  "kernelspec": {
   "display_name": "venv",
   "language": "python",
   "name": "python3"
  },
  "language_info": {
   "codemirror_mode": {
    "name": "ipython",
    "version": 3
   },
   "file_extension": ".py",
   "mimetype": "text/x-python",
   "name": "python",
   "nbconvert_exporter": "python",
   "pygments_lexer": "ipython3",
   "version": "3.10.0"
  }
 },
 "nbformat": 4,
 "nbformat_minor": 2
}
